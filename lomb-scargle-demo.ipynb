{
 "cells": [
  {
   "cell_type": "code",
   "execution_count": null,
   "id": "cfdf67cc",
   "metadata": {},
   "outputs": [],
   "source": [
    "import numpy as np\n",
    "import matplotlib.pyplot as plt\n",
    "from astropy.timeseries import LombScargle\n",
    "from astropy.io import ascii\n",
    "\n",
    "freq1 = 0.5\n",
    "freq2 = 2.3\n",
    "\n",
    "# randomly sample 500 times over the course of ten days\n",
    "time = np.random.choice(np.linspace(0, 10, 10001), 500) \n",
    "# create a synthetic light curve that is a combination of two frequencies + some random noise\n",
    "flux = 0.6 * np.sin(freq1 * 2 * np.pi * time) + \\\n",
    "       0.3 * np.sin(freq2 * 2 * np.pi * time) + \\\n",
    "       1.2 + 0.2 * np.random.normal(0, 1, 500)\n",
    "\n",
    "# display the synthetic light curve\n",
    "plt.plot(time, flux, '.')\n",
    "plt.title('Light Curve')\n",
    "plt.xlabel('Time (days)')\n",
    "plt.ylabel('Flux (arbitrary units)')\n",
    "plt.show()\n",
    "\n",
    "# compute the Lomb-Scargle periodogram\n",
    "frequency, power = LombScargle(time, flux).autopower(samples_per_peak = 20)\n",
    "\n",
    "# display the Lomb-Scargle periodogram\n",
    "plt.plot(frequency, power)\n",
    "plt.title('Lomb-Scargle Periodogram')\n",
    "plt.xlabel('Frequency')\n",
    "plt.ylabel('Power')\n",
    "plt.show()\n",
    "\n",
    "# display the two peaks more clearly\n",
    "# Lomb-Scargle correctly detects the dominant 0.5 cycles/day frequency\n",
    "# The secondary peak at 2.3 cycles/day is clearly visible as well!\n",
    "plt.plot(frequency, power)\n",
    "plt.title('Lomb-Scargle Periodogram (low frequencies)')\n",
    "plt.xlabel('Frequency')\n",
    "plt.ylabel('Power')\n",
    "plt.xlim(0, 10)\n",
    "plt.show()\n",
    "\n",
    "\n",
    "best_frequency = frequency[np.argmax(power)]\n",
    "print('Most prominent detected frequency is %s cycles/day' %best_frequency)"
   ]
  },
  {
   "cell_type": "code",
   "execution_count": null,
   "id": "1f1170c5",
   "metadata": {},
   "outputs": [],
   "source": [
    "# example for importing data from a file\n",
    "lightcurve = ascii.read('my_lightcurve.txt')\n",
    "\n",
    "time = lightcurve['Time']\n",
    "flux = lightcurve['Flux']\n",
    "\n",
    "# plot the data as before\n",
    "plt.plot(time, flux, '.')\n",
    "plt.title('Light Curve')\n",
    "plt.xlabel('Time (days)')\n",
    "plt.ylabel('Flux (arbitrary units)')\n",
    "plt.show()\n",
    "\n",
    "# running Lomb-Scargle on this new data, you should find a frequency of ~1.1 cycles/day"
   ]
  }
 ],
 "metadata": {
  "kernelspec": {
   "display_name": "Python 3 (ipykernel)",
   "language": "python",
   "name": "python3"
  },
  "language_info": {
   "codemirror_mode": {
    "name": "ipython",
    "version": 3
   },
   "file_extension": ".py",
   "mimetype": "text/x-python",
   "name": "python",
   "nbconvert_exporter": "python",
   "pygments_lexer": "ipython3",
   "version": "3.9.12"
  }
 },
 "nbformat": 4,
 "nbformat_minor": 5
}
